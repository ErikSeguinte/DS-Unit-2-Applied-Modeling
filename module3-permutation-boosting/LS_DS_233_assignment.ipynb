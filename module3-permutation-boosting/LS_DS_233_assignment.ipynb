{
 "cells": [
  {
   "cell_type": "markdown",
   "metadata": {
    "colab_type": "text",
    "id": "nCc3XZEyG3XV"
   },
   "source": [
    "Lambda School Data Science\n",
    "\n",
    "*Unit 2, Sprint 3, Module 3*\n",
    "\n",
    "---\n",
    "\n",
    "\n",
    "# Permutation & Boosting\n",
    "\n",
    "You will use your portfolio project dataset for all assignments this sprint.\n",
    "\n",
    "## Assignment\n",
    "\n",
    "Complete these tasks for your project, and document your work.\n",
    "\n",
    "- [ ] If you haven't completed assignment #1, please do so first.\n",
    "- [ ] Continue to clean and explore your data. Make exploratory visualizations.\n",
    "- [ ] Fit a model. Does it beat your baseline? \n",
    "- [ ] Try xgboost.\n",
    "- [ ] Get your model's permutation importances.\n",
    "\n",
    "You should try to complete an initial model today, because the rest of the week, we're making model interpretation visualizations.\n",
    "\n",
    "But, if you aren't ready to try xgboost and permutation importances with your dataset today, that's okay. You can practice with another dataset instead. You may choose any dataset you've worked with previously.\n",
    "\n",
    "The data subdirectory includes the Titanic dataset for classification and the NYC apartments dataset for regression. You may want to choose one of these datasets, because example solutions will be available for each.\n",
    "\n",
    "\n",
    "## Reading\n",
    "\n",
    "Top recommendations in _**bold italic:**_\n",
    "\n",
    "#### Permutation Importances\n",
    "- _**[Kaggle / Dan Becker: Machine Learning Explainability](https://www.kaggle.com/dansbecker/permutation-importance)**_\n",
    "- [Christoph Molnar: Interpretable Machine Learning](https://christophm.github.io/interpretable-ml-book/feature-importance.html)\n",
    "\n",
    "#### (Default) Feature Importances\n",
    "  - [Ando Saabas: Selecting good features, Part 3, Random Forests](https://blog.datadive.net/selecting-good-features-part-iii-random-forests/)\n",
    "  - [Terence Parr, et al: Beware Default Random Forest Importances](https://explained.ai/rf-importance/index.html)\n",
    "\n",
    "#### Gradient Boosting\n",
    "  - [A Gentle Introduction to the Gradient Boosting Algorithm for Machine Learning](https://machinelearningmastery.com/gentle-introduction-gradient-boosting-algorithm-machine-learning/)\n",
    "  - [An Introduction to Statistical Learning](http://www-bcf.usc.edu/~gareth/ISL/ISLR%20Seventh%20Printing.pdf), Chapter 8\n",
    "  - _**[Gradient Boosting Explained](https://www.gormanalysis.com/blog/gradient-boosting-explained/)**_ — Ben Gorman\n",
    "  - [Gradient Boosting Explained](http://arogozhnikov.github.io/2016/06/24/gradient_boosting_explained.html) — Alex Rogozhnikov\n",
    "  - [How to explain gradient boosting](https://explained.ai/gradient-boosting/) — Terence Parr & Jeremy Howard"
   ]
  },
  {
   "cell_type": "code",
   "execution_count": 1,
   "metadata": {},
   "outputs": [],
   "source": [
    "import pandas as pd\n",
    "from pathlib import Path\n",
    "\n",
    "filepath = Path('../data/steam/steam.csv')\n",
    "data = pd.read_csv(filepath)\n",
    "\n",
    "import math\n",
    "import numpy as np\n",
    "\n",
    "\n",
    "def create_target(data:pd.DataFrame):\n",
    "    data = data.copy()\n",
    "    df = data[['positive_ratings', 'negative_ratings']]\n",
    "    data = data.drop(['positive_ratings', 'negative_ratings'], axis=1)\n",
    "    df['total_reviews'] = df['positive_ratings'] + df['negative_ratings']\n",
    "    df =df[df['total_reviews'] >= 500]\n",
    "    df['review_score'] = df['positive_ratings'] / df['total_reviews']\n",
    "    df['superscript']= [math.log10(x+1) for x in df['total_reviews']]\n",
    "    df['exponent'] = [2**(-x) for x in df['superscript']]\n",
    "    df['rating'] =  [x-(x-0.5) * y for x,y in zip(df['review_score'], df['exponent'])]\n",
    "    df['good'] = df['rating'] >= 0.85\n",
    "    data = data.merge(df[['good']], left_index=True,right_index=True)\n",
    "    return data\n",
    "\n",
    "data_with_target = create_target(data)\n",
    "\n",
    "\n",
    "def x_y_split(df):\n",
    "    target = 'good'\n",
    "    X = df.copy().drop(target, axis=1)\n",
    "    y = df.copy()[target]\n",
    "    return X, y\n",
    "\n",
    "from sklearn.model_selection import train_test_split\n",
    "train_and_val_set, test_set = train_test_split(data_with_target, stratify = data_with_target['good'], random_state = 11)\n",
    "train_set, val_set = train_test_split(train_and_val_set, stratify = train_and_val_set['good'], random_state = 11)\n",
    "\n",
    "X_train, y_train = x_y_split(train_set)\n",
    "X_val, y_val = x_y_split(val_set)\n",
    "X_test, y_test = x_y_split(test_set)\n",
    "\n",
    "train = (X_train, y_train)\n",
    "val = (X_val, y_val)"
   ]
  },
  {
   "cell_type": "code",
   "execution_count": 2,
   "metadata": {},
   "outputs": [],
   "source": [
    "from lightgbm import LGBMClassifier\n",
    "\n",
    "from sklearn.base import TransformerMixin\n",
    "import category_encoders as ce\n",
    "import numpy as np\n",
    "\n",
    "\n",
    "class Wrangler(TransformerMixin):\n",
    "\n",
    "    def __init__(self):\n",
    "        pass\n",
    "\n",
    "    def fit(self, X, y=None, **fit_params):\n",
    "        return self\n",
    "\n",
    "    def transform(self, X):\n",
    "        X = X.copy()\n",
    "        cols_with_zeros = ['average_playtime', 'median_playtime']\n",
    "        for col in cols_with_zeros:\n",
    "            X[col] = X[col].replace(0, np.nan)\n",
    "        X['release_date'] = pd.to_datetime(X['release_date'], infer_datetime_format=True)\n",
    "        X['year'] = X['release_date'].dt.year\n",
    "        X['month'] = X['release_date'].dt.month\n",
    "        X['day'] = X['release_date'].dt.day\n",
    "        genres = X['genres'].str.split(';', expand=True).stack().str.get_dummies().add_prefix('genre').sum(level=0)\n",
    "        tags = X['steamspy_tags'].str.split(';', expand=True).stack().str.get_dummies().add_prefix('tag').sum(level=0)\n",
    "        X = X.drop(columns=[ 'appid', 'name', 'release_date', 'genres', 'steamspy_tags', 'name'])\n",
    "        X = X.merge(genres, left_index=True, right_index=True)\n",
    "        X = X.merge(tags, left_index=True, right_index=True)\n",
    "        return X\n",
    "\n",
    "\n",
    "class NumericalFilter(TransformerMixin):\n",
    "\n",
    "    def __init__(self, include = True):\n",
    "        self.columns = None\n",
    "        self.include = include\n",
    "\n",
    "    def fit(self, X, y=None,**fit_params):\n",
    "        if self.include:\n",
    "            self.columns = X.select_dtypes(include='number').columns.tolist()\n",
    "        else:\n",
    "            self.columns = X.select_dtypes(exclude='number').columns.tolist()\n",
    "        return self\n",
    "\n",
    "    def transform(self, X):\n",
    "        return X[self.columns]"
   ]
  },
  {
   "cell_type": "code",
   "execution_count": 3,
   "metadata": {},
   "outputs": [
    {
     "output_type": "execute_result",
     "data": {
      "text/plain": "Index(['appid', 'name', 'release_date', 'english', 'developer', 'publisher',\n       'platforms', 'required_age', 'categories', 'genres', 'steamspy_tags',\n       'achievements', 'average_playtime', 'median_playtime', 'owners',\n       'price'],\n      dtype='object')"
     },
     "metadata": {},
     "execution_count": 3
    }
   ],
   "source": [
    "X_train.columns"
   ]
  },
  {
   "cell_type": "code",
   "execution_count": 82,
   "metadata": {},
   "outputs": [],
   "source": [
    "from sklearn.pipeline import make_pipeline, make_union\n",
    "from sklearn.impute import SimpleImputer\n",
    "from sklearn.ensemble import RandomForestClassifier\n",
    "import lightgbm\n",
    "from lightgbm import LGBMClassifier\n",
    "import numpy as np\n",
    "from xgboost import XGBClassifier\n",
    "from catboost import CatBoostClassifier\n",
    "\n",
    "categorical_pipe = make_pipeline(NumericalFilter(False), ce.OrdinalEncoder())\n",
    "\n",
    "numerical_pipe = make_pipeline(NumericalFilter(), SimpleImputer())\n",
    "\n",
    "processing_pipe = make_union(categorical_pipe, numerical_pipe)\n",
    "\n",
    "classifier = make_pipeline(\n",
    "    Wrangler(),\n",
    "    numerical_pipe,\n",
    "    XGBClassifier()\n",
    "    )\n",
    "\n",
    "transformer = classifier = make_pipeline(\n",
    "    Wrangler(),\n",
    "    processing_pipe,\n",
    "    )"
   ]
  },
  {
   "cell_type": "code",
   "execution_count": 83,
   "metadata": {},
   "outputs": [
    {
     "output_type": "execute_result",
     "data": {
      "text/plain": "Pipeline(memory=None,\n         steps=[('wrangler', <__main__.Wrangler object at 0x7f47c5a7a810>),\n                ('featureunion',\n                 FeatureUnion(n_jobs=None,\n                              transformer_list=[('pipeline-1',\n                                                 Pipeline(memory=None,\n                                                          steps=[('numericalfilter',\n                                                                  <__main__.NumericalFilter object at 0x7f47c5a7a510>),\n                                                                 ('ordinalencoder',\n                                                                  OrdinalEncoder(cols=['developer',\n                                                                                       'publisher',\n                                                                                       'platforms',\n                                                                                       'categories',\n                                                                                       'owners']...\n                                                                                 return_df=True,\n                                                                                 verbose=0))],\n                                                          verbose=False)),\n                                                ('pipeline-2',\n                                                 Pipeline(memory=None,\n                                                          steps=[('numericalfilter',\n                                                                  <__main__.NumericalFilter object at 0x7f47c5a7a4d0>),\n                                                                 ('simpleimputer',\n                                                                  SimpleImputer(add_indicator=False,\n                                                                                copy=True,\n                                                                                fill_value=None,\n                                                                                missing_values=nan,\n                                                                                strategy='mean',\n                                                                                verbose=0))],\n                                                          verbose=False))],\n                              transformer_weights=None, verbose=False))],\n         verbose=False)"
     },
     "metadata": {},
     "execution_count": 83
    }
   ],
   "source": [
    "classifier.fit(X_train, y_train)"
   ]
  },
  {
   "cell_type": "code",
   "execution_count": 84,
   "metadata": {},
   "outputs": [
    {
     "output_type": "error",
     "ename": "AttributeError",
     "evalue": "'FeatureUnion' object has no attribute 'score'",
     "traceback": [
      "\u001b[0;31m---------------------------------------------------------------------------\u001b[0m",
      "\u001b[0;31mAttributeError\u001b[0m                            Traceback (most recent call last)",
      "\u001b[0;32m<ipython-input-84-988b88d7f341>\u001b[0m in \u001b[0;36m<module>\u001b[0;34m\u001b[0m\n\u001b[0;32m----> 1\u001b[0;31m \u001b[0mclassifier\u001b[0m\u001b[0;34m.\u001b[0m\u001b[0mscore\u001b[0m\u001b[0;34m(\u001b[0m\u001b[0;34m*\u001b[0m\u001b[0mval\u001b[0m\u001b[0;34m)\u001b[0m\u001b[0;34m\u001b[0m\u001b[0;34m\u001b[0m\u001b[0m\n\u001b[0m",
      "\u001b[0;32m~/miniconda3/envs/lambda/lib/python3.7/site-packages/sklearn/utils/metaestimators.py\u001b[0m in \u001b[0;36m__get__\u001b[0;34m(self, obj, type)\u001b[0m\n\u001b[1;32m    108\u001b[0m                     \u001b[0;32mcontinue\u001b[0m\u001b[0;34m\u001b[0m\u001b[0;34m\u001b[0m\u001b[0m\n\u001b[1;32m    109\u001b[0m                 \u001b[0;32melse\u001b[0m\u001b[0;34m:\u001b[0m\u001b[0;34m\u001b[0m\u001b[0;34m\u001b[0m\u001b[0m\n\u001b[0;32m--> 110\u001b[0;31m                     \u001b[0mgetattr\u001b[0m\u001b[0;34m(\u001b[0m\u001b[0mdelegate\u001b[0m\u001b[0;34m,\u001b[0m \u001b[0mself\u001b[0m\u001b[0;34m.\u001b[0m\u001b[0mattribute_name\u001b[0m\u001b[0;34m)\u001b[0m\u001b[0;34m\u001b[0m\u001b[0;34m\u001b[0m\u001b[0m\n\u001b[0m\u001b[1;32m    111\u001b[0m                     \u001b[0;32mbreak\u001b[0m\u001b[0;34m\u001b[0m\u001b[0;34m\u001b[0m\u001b[0m\n\u001b[1;32m    112\u001b[0m             \u001b[0;32melse\u001b[0m\u001b[0;34m:\u001b[0m\u001b[0;34m\u001b[0m\u001b[0;34m\u001b[0m\u001b[0m\n",
      "\u001b[0;31mAttributeError\u001b[0m: 'FeatureUnion' object has no attribute 'score'"
     ]
    }
   ],
   "source": [
    "classifier.score(*val)"
   ]
  },
  {
   "cell_type": "code",
   "execution_count": null,
   "metadata": {},
   "outputs": [],
   "source": [
    "from sklearn import metrics\n",
    "\n",
    "metrics.recall_score(y_val, classifier.predict(X_val))"
   ]
  },
  {
   "cell_type": "code",
   "execution_count": null,
   "metadata": {},
   "outputs": [],
   "source": [
    "from sklearn.dummy import DummyClassifier\n",
    "\n",
    "dummy = DummyClassifier('stratified')"
   ]
  },
  {
   "cell_type": "code",
   "execution_count": null,
   "metadata": {},
   "outputs": [],
   "source": [
    "dummy.fit(*train)"
   ]
  },
  {
   "cell_type": "code",
   "execution_count": null,
   "metadata": {},
   "outputs": [],
   "source": [
    "metrics.recall_score(y_val, dummy.predict(X_val))"
   ]
  },
  {
   "cell_type": "code",
   "execution_count": null,
   "metadata": {},
   "outputs": [],
   "source": [
    "X_train['owners']"
   ]
  },
  {
   "cell_type": "code",
   "execution_count": null,
   "metadata": {},
   "outputs": [],
   "source": [
    "X_train['average_playtime']"
   ]
  },
  {
   "cell_type": "code",
   "execution_count": 91,
   "metadata": {},
   "outputs": [
    {
     "output_type": "execute_result",
     "data": {
      "text/plain": "      genre_Action  genre_Adventure  genre_Animation & Modeling  genre_Casual  \\\n2091             0                0                           0             0   \n759              0                0                           0             0   \n1523             0                1                           0             0   \n1773             0                1                           0             0   \n672              1                1                           0             0   \n...            ...              ...                         ...           ...   \n685              1                1                           0             0   \n4823             1                0                           0             0   \n4926             1                1                           0             1   \n2356             0                1                           0             0   \n1307             0                1                           0             1   \n\n      genre_Design & Illustration  genre_Early Access  genre_Education  \\\n2091                            0                   0                0   \n759                             0                   0                0   \n1523                            0                   0                0   \n1773                            0                   0                0   \n672                             0                   0                0   \n...                           ...                 ...              ...   \n685                             0                   0                0   \n4823                            0                   0                0   \n4926                            0                   0                0   \n2356                            0                   0                0   \n1307                            0                   0                0   \n\n      genre_Free to Play  genre_Game Development  genre_Gore  ...  \\\n2091                   0                       0           0  ...   \n759                    0                       0           0  ...   \n1523                   0                       0           0  ...   \n1773                   0                       0           0  ...   \n672                    0                       0           0  ...   \n...                  ...                     ...         ...  ...   \n685                    0                       0           0  ...   \n4823                   0                       0           0  ...   \n4926                   0                       0           0  ...   \n2356                   0                       0           0  ...   \n1307                   0                       0           0  ...   \n\n      genre_Racing  genre_Sexual Content  genre_Simulation  \\\n2091             0                     0                 0   \n759              0                     0                 0   \n1523             0                     0                 0   \n1773             0                     0                 0   \n672              0                     0                 0   \n...            ...                   ...               ...   \n685              0                     0                 0   \n4823             0                     0                 0   \n4926             0                     0                 0   \n2356             0                     0                 0   \n1307             0                     0                 0   \n\n      genre_Software Training  genre_Sports  genre_Strategy  genre_Utilities  \\\n2091                        0             0               1                0   \n759                         0             0               1                0   \n1523                        0             0               1                0   \n1773                        0             0               0                0   \n672                         0             0               0                0   \n...                       ...           ...             ...              ...   \n685                         0             0               0                0   \n4823                        0             0               0                0   \n4926                        0             0               1                0   \n2356                        0             0               0                0   \n1307                        0             0               0                0   \n\n      genre_Video Production  genre_Violent  genre_Web Publishing  \n2091                       0              0                     0  \n759                        0              0                     0  \n1523                       0              0                     0  \n1773                       0              0                     0  \n672                        0              0                     0  \n...                      ...            ...                   ...  \n685                        0              0                     0  \n4823                       0              0                     0  \n4926                       0              0                     0  \n2356                       0              0                     0  \n1307                       0              0                     0  \n\n[2151 rows x 24 columns]",
      "text/html": "<div>\n<style scoped>\n    .dataframe tbody tr th:only-of-type {\n        vertical-align: middle;\n    }\n\n    .dataframe tbody tr th {\n        vertical-align: top;\n    }\n\n    .dataframe thead th {\n        text-align: right;\n    }\n</style>\n<table border=\"1\" class=\"dataframe\">\n  <thead>\n    <tr style=\"text-align: right;\">\n      <th></th>\n      <th>genre_Action</th>\n      <th>genre_Adventure</th>\n      <th>genre_Animation &amp; Modeling</th>\n      <th>genre_Casual</th>\n      <th>genre_Design &amp; Illustration</th>\n      <th>genre_Early Access</th>\n      <th>genre_Education</th>\n      <th>genre_Free to Play</th>\n      <th>genre_Game Development</th>\n      <th>genre_Gore</th>\n      <th>...</th>\n      <th>genre_Racing</th>\n      <th>genre_Sexual Content</th>\n      <th>genre_Simulation</th>\n      <th>genre_Software Training</th>\n      <th>genre_Sports</th>\n      <th>genre_Strategy</th>\n      <th>genre_Utilities</th>\n      <th>genre_Video Production</th>\n      <th>genre_Violent</th>\n      <th>genre_Web Publishing</th>\n    </tr>\n  </thead>\n  <tbody>\n    <tr>\n      <th>2091</th>\n      <td>0</td>\n      <td>0</td>\n      <td>0</td>\n      <td>0</td>\n      <td>0</td>\n      <td>0</td>\n      <td>0</td>\n      <td>0</td>\n      <td>0</td>\n      <td>0</td>\n      <td>...</td>\n      <td>0</td>\n      <td>0</td>\n      <td>0</td>\n      <td>0</td>\n      <td>0</td>\n      <td>1</td>\n      <td>0</td>\n      <td>0</td>\n      <td>0</td>\n      <td>0</td>\n    </tr>\n    <tr>\n      <th>759</th>\n      <td>0</td>\n      <td>0</td>\n      <td>0</td>\n      <td>0</td>\n      <td>0</td>\n      <td>0</td>\n      <td>0</td>\n      <td>0</td>\n      <td>0</td>\n      <td>0</td>\n      <td>...</td>\n      <td>0</td>\n      <td>0</td>\n      <td>0</td>\n      <td>0</td>\n      <td>0</td>\n      <td>1</td>\n      <td>0</td>\n      <td>0</td>\n      <td>0</td>\n      <td>0</td>\n    </tr>\n    <tr>\n      <th>1523</th>\n      <td>0</td>\n      <td>1</td>\n      <td>0</td>\n      <td>0</td>\n      <td>0</td>\n      <td>0</td>\n      <td>0</td>\n      <td>0</td>\n      <td>0</td>\n      <td>0</td>\n      <td>...</td>\n      <td>0</td>\n      <td>0</td>\n      <td>0</td>\n      <td>0</td>\n      <td>0</td>\n      <td>1</td>\n      <td>0</td>\n      <td>0</td>\n      <td>0</td>\n      <td>0</td>\n    </tr>\n    <tr>\n      <th>1773</th>\n      <td>0</td>\n      <td>1</td>\n      <td>0</td>\n      <td>0</td>\n      <td>0</td>\n      <td>0</td>\n      <td>0</td>\n      <td>0</td>\n      <td>0</td>\n      <td>0</td>\n      <td>...</td>\n      <td>0</td>\n      <td>0</td>\n      <td>0</td>\n      <td>0</td>\n      <td>0</td>\n      <td>0</td>\n      <td>0</td>\n      <td>0</td>\n      <td>0</td>\n      <td>0</td>\n    </tr>\n    <tr>\n      <th>672</th>\n      <td>1</td>\n      <td>1</td>\n      <td>0</td>\n      <td>0</td>\n      <td>0</td>\n      <td>0</td>\n      <td>0</td>\n      <td>0</td>\n      <td>0</td>\n      <td>0</td>\n      <td>...</td>\n      <td>0</td>\n      <td>0</td>\n      <td>0</td>\n      <td>0</td>\n      <td>0</td>\n      <td>0</td>\n      <td>0</td>\n      <td>0</td>\n      <td>0</td>\n      <td>0</td>\n    </tr>\n    <tr>\n      <th>...</th>\n      <td>...</td>\n      <td>...</td>\n      <td>...</td>\n      <td>...</td>\n      <td>...</td>\n      <td>...</td>\n      <td>...</td>\n      <td>...</td>\n      <td>...</td>\n      <td>...</td>\n      <td>...</td>\n      <td>...</td>\n      <td>...</td>\n      <td>...</td>\n      <td>...</td>\n      <td>...</td>\n      <td>...</td>\n      <td>...</td>\n      <td>...</td>\n      <td>...</td>\n      <td>...</td>\n    </tr>\n    <tr>\n      <th>685</th>\n      <td>1</td>\n      <td>1</td>\n      <td>0</td>\n      <td>0</td>\n      <td>0</td>\n      <td>0</td>\n      <td>0</td>\n      <td>0</td>\n      <td>0</td>\n      <td>0</td>\n      <td>...</td>\n      <td>0</td>\n      <td>0</td>\n      <td>0</td>\n      <td>0</td>\n      <td>0</td>\n      <td>0</td>\n      <td>0</td>\n      <td>0</td>\n      <td>0</td>\n      <td>0</td>\n    </tr>\n    <tr>\n      <th>4823</th>\n      <td>1</td>\n      <td>0</td>\n      <td>0</td>\n      <td>0</td>\n      <td>0</td>\n      <td>0</td>\n      <td>0</td>\n      <td>0</td>\n      <td>0</td>\n      <td>0</td>\n      <td>...</td>\n      <td>0</td>\n      <td>0</td>\n      <td>0</td>\n      <td>0</td>\n      <td>0</td>\n      <td>0</td>\n      <td>0</td>\n      <td>0</td>\n      <td>0</td>\n      <td>0</td>\n    </tr>\n    <tr>\n      <th>4926</th>\n      <td>1</td>\n      <td>1</td>\n      <td>0</td>\n      <td>1</td>\n      <td>0</td>\n      <td>0</td>\n      <td>0</td>\n      <td>0</td>\n      <td>0</td>\n      <td>0</td>\n      <td>...</td>\n      <td>0</td>\n      <td>0</td>\n      <td>0</td>\n      <td>0</td>\n      <td>0</td>\n      <td>1</td>\n      <td>0</td>\n      <td>0</td>\n      <td>0</td>\n      <td>0</td>\n    </tr>\n    <tr>\n      <th>2356</th>\n      <td>0</td>\n      <td>1</td>\n      <td>0</td>\n      <td>0</td>\n      <td>0</td>\n      <td>0</td>\n      <td>0</td>\n      <td>0</td>\n      <td>0</td>\n      <td>0</td>\n      <td>...</td>\n      <td>0</td>\n      <td>0</td>\n      <td>0</td>\n      <td>0</td>\n      <td>0</td>\n      <td>0</td>\n      <td>0</td>\n      <td>0</td>\n      <td>0</td>\n      <td>0</td>\n    </tr>\n    <tr>\n      <th>1307</th>\n      <td>0</td>\n      <td>1</td>\n      <td>0</td>\n      <td>1</td>\n      <td>0</td>\n      <td>0</td>\n      <td>0</td>\n      <td>0</td>\n      <td>0</td>\n      <td>0</td>\n      <td>...</td>\n      <td>0</td>\n      <td>0</td>\n      <td>0</td>\n      <td>0</td>\n      <td>0</td>\n      <td>0</td>\n      <td>0</td>\n      <td>0</td>\n      <td>0</td>\n      <td>0</td>\n    </tr>\n  </tbody>\n</table>\n<p>2151 rows × 24 columns</p>\n</div>"
     },
     "metadata": {},
     "execution_count": 91
    }
   ],
   "source": [
    "X_train['genres'].str.split(';', expand=True).stack().str.get_dummies().add_prefix('genre_').sum(level=0)"
   ]
  },
  {
   "cell_type": "code",
   "execution_count": 92,
   "metadata": {},
   "outputs": [
    {
     "output_type": "execute_result",
     "data": {
      "text/plain": "      tag_1980s  tag_2D  tag_2D Fighter  tag_3D Platformer  tag_4X  \\\n2091          0       0               0                  0       0   \n759           0       0               0                  0       0   \n1523          0       0               0                  0       0   \n1773          0       0               0                  0       0   \n672           0       0               0                  0       0   \n...         ...     ...             ...                ...     ...   \n685           0       0               0                  0       0   \n4823          0       0               0                  0       0   \n4926          0       0               0                  0       0   \n2356          0       0               0                  0       0   \n1307          0       0               0                  0       0   \n\n      tag_Action  tag_Action RPG  tag_Adventure  tag_Agriculture  tag_Aliens  \\\n2091           0               0              0                0           0   \n759            0               0              0                0           0   \n1523           0               0              0                0           0   \n1773           0               0              0                0           0   \n672            0               0              1                0           0   \n...          ...             ...            ...              ...         ...   \n685            0               0              1                0           0   \n4823           1               0              0                0           0   \n4926           1               0              0                0           0   \n2356           0               0              1                0           0   \n1307           0               0              1                0           0   \n\n      ...  tag_Violent  tag_Visual Novel  tag_Walking Simulator  tag_War  \\\n2091  ...            0                 0                      0        0   \n759   ...            0                 0                      0        0   \n1523  ...            0                 0                      0        0   \n1773  ...            0                 0                      0        0   \n672   ...            0                 0                      0        0   \n...   ...          ...               ...                    ...      ...   \n685   ...            0                 0                      0        0   \n4823  ...            0                 0                      0        0   \n4926  ...            0                 0                      0        0   \n2356  ...            0                 0                      0        0   \n1307  ...            0                 0                      0        0   \n\n      tag_Warhammer 40K  tag_Western  tag_World War I  tag_World War II  \\\n2091                  0            0                0                 0   \n759                   0            0                0                 0   \n1523                  0            0                0                 0   \n1773                  0            0                0                 0   \n672                   0            0                0                 0   \n...                 ...          ...              ...               ...   \n685                   0            0                0                 0   \n4823                  0            0                0                 0   \n4926                  0            0                0                 0   \n2356                  0            0                0                 0   \n1307                  0            0                0                 0   \n\n      tag_Wrestling  tag_Zombies  \n2091              0            0  \n759               0            0  \n1523              0            0  \n1773              0            0  \n672               0            0  \n...             ...          ...  \n685               0            0  \n4823              0            0  \n4926              0            0  \n2356              0            0  \n1307              0            0  \n\n[2151 rows x 250 columns]",
      "text/html": "<div>\n<style scoped>\n    .dataframe tbody tr th:only-of-type {\n        vertical-align: middle;\n    }\n\n    .dataframe tbody tr th {\n        vertical-align: top;\n    }\n\n    .dataframe thead th {\n        text-align: right;\n    }\n</style>\n<table border=\"1\" class=\"dataframe\">\n  <thead>\n    <tr style=\"text-align: right;\">\n      <th></th>\n      <th>tag_1980s</th>\n      <th>tag_2D</th>\n      <th>tag_2D Fighter</th>\n      <th>tag_3D Platformer</th>\n      <th>tag_4X</th>\n      <th>tag_Action</th>\n      <th>tag_Action RPG</th>\n      <th>tag_Adventure</th>\n      <th>tag_Agriculture</th>\n      <th>tag_Aliens</th>\n      <th>...</th>\n      <th>tag_Violent</th>\n      <th>tag_Visual Novel</th>\n      <th>tag_Walking Simulator</th>\n      <th>tag_War</th>\n      <th>tag_Warhammer 40K</th>\n      <th>tag_Western</th>\n      <th>tag_World War I</th>\n      <th>tag_World War II</th>\n      <th>tag_Wrestling</th>\n      <th>tag_Zombies</th>\n    </tr>\n  </thead>\n  <tbody>\n    <tr>\n      <th>2091</th>\n      <td>0</td>\n      <td>0</td>\n      <td>0</td>\n      <td>0</td>\n      <td>0</td>\n      <td>0</td>\n      <td>0</td>\n      <td>0</td>\n      <td>0</td>\n      <td>0</td>\n      <td>...</td>\n      <td>0</td>\n      <td>0</td>\n      <td>0</td>\n      <td>0</td>\n      <td>0</td>\n      <td>0</td>\n      <td>0</td>\n      <td>0</td>\n      <td>0</td>\n      <td>0</td>\n    </tr>\n    <tr>\n      <th>759</th>\n      <td>0</td>\n      <td>0</td>\n      <td>0</td>\n      <td>0</td>\n      <td>0</td>\n      <td>0</td>\n      <td>0</td>\n      <td>0</td>\n      <td>0</td>\n      <td>0</td>\n      <td>...</td>\n      <td>0</td>\n      <td>0</td>\n      <td>0</td>\n      <td>0</td>\n      <td>0</td>\n      <td>0</td>\n      <td>0</td>\n      <td>0</td>\n      <td>0</td>\n      <td>0</td>\n    </tr>\n    <tr>\n      <th>1523</th>\n      <td>0</td>\n      <td>0</td>\n      <td>0</td>\n      <td>0</td>\n      <td>0</td>\n      <td>0</td>\n      <td>0</td>\n      <td>0</td>\n      <td>0</td>\n      <td>0</td>\n      <td>...</td>\n      <td>0</td>\n      <td>0</td>\n      <td>0</td>\n      <td>0</td>\n      <td>0</td>\n      <td>0</td>\n      <td>0</td>\n      <td>0</td>\n      <td>0</td>\n      <td>0</td>\n    </tr>\n    <tr>\n      <th>1773</th>\n      <td>0</td>\n      <td>0</td>\n      <td>0</td>\n      <td>0</td>\n      <td>0</td>\n      <td>0</td>\n      <td>0</td>\n      <td>0</td>\n      <td>0</td>\n      <td>0</td>\n      <td>...</td>\n      <td>0</td>\n      <td>0</td>\n      <td>0</td>\n      <td>0</td>\n      <td>0</td>\n      <td>0</td>\n      <td>0</td>\n      <td>0</td>\n      <td>0</td>\n      <td>0</td>\n    </tr>\n    <tr>\n      <th>672</th>\n      <td>0</td>\n      <td>0</td>\n      <td>0</td>\n      <td>0</td>\n      <td>0</td>\n      <td>0</td>\n      <td>0</td>\n      <td>1</td>\n      <td>0</td>\n      <td>0</td>\n      <td>...</td>\n      <td>0</td>\n      <td>0</td>\n      <td>0</td>\n      <td>0</td>\n      <td>0</td>\n      <td>0</td>\n      <td>0</td>\n      <td>0</td>\n      <td>0</td>\n      <td>0</td>\n    </tr>\n    <tr>\n      <th>...</th>\n      <td>...</td>\n      <td>...</td>\n      <td>...</td>\n      <td>...</td>\n      <td>...</td>\n      <td>...</td>\n      <td>...</td>\n      <td>...</td>\n      <td>...</td>\n      <td>...</td>\n      <td>...</td>\n      <td>...</td>\n      <td>...</td>\n      <td>...</td>\n      <td>...</td>\n      <td>...</td>\n      <td>...</td>\n      <td>...</td>\n      <td>...</td>\n      <td>...</td>\n      <td>...</td>\n    </tr>\n    <tr>\n      <th>685</th>\n      <td>0</td>\n      <td>0</td>\n      <td>0</td>\n      <td>0</td>\n      <td>0</td>\n      <td>0</td>\n      <td>0</td>\n      <td>1</td>\n      <td>0</td>\n      <td>0</td>\n      <td>...</td>\n      <td>0</td>\n      <td>0</td>\n      <td>0</td>\n      <td>0</td>\n      <td>0</td>\n      <td>0</td>\n      <td>0</td>\n      <td>0</td>\n      <td>0</td>\n      <td>0</td>\n    </tr>\n    <tr>\n      <th>4823</th>\n      <td>0</td>\n      <td>0</td>\n      <td>0</td>\n      <td>0</td>\n      <td>0</td>\n      <td>1</td>\n      <td>0</td>\n      <td>0</td>\n      <td>0</td>\n      <td>0</td>\n      <td>...</td>\n      <td>0</td>\n      <td>0</td>\n      <td>0</td>\n      <td>0</td>\n      <td>0</td>\n      <td>0</td>\n      <td>0</td>\n      <td>0</td>\n      <td>0</td>\n      <td>0</td>\n    </tr>\n    <tr>\n      <th>4926</th>\n      <td>0</td>\n      <td>0</td>\n      <td>0</td>\n      <td>0</td>\n      <td>0</td>\n      <td>1</td>\n      <td>0</td>\n      <td>0</td>\n      <td>0</td>\n      <td>0</td>\n      <td>...</td>\n      <td>0</td>\n      <td>0</td>\n      <td>0</td>\n      <td>0</td>\n      <td>0</td>\n      <td>0</td>\n      <td>0</td>\n      <td>0</td>\n      <td>0</td>\n      <td>0</td>\n    </tr>\n    <tr>\n      <th>2356</th>\n      <td>0</td>\n      <td>0</td>\n      <td>0</td>\n      <td>0</td>\n      <td>0</td>\n      <td>0</td>\n      <td>0</td>\n      <td>1</td>\n      <td>0</td>\n      <td>0</td>\n      <td>...</td>\n      <td>0</td>\n      <td>0</td>\n      <td>0</td>\n      <td>0</td>\n      <td>0</td>\n      <td>0</td>\n      <td>0</td>\n      <td>0</td>\n      <td>0</td>\n      <td>0</td>\n    </tr>\n    <tr>\n      <th>1307</th>\n      <td>0</td>\n      <td>0</td>\n      <td>0</td>\n      <td>0</td>\n      <td>0</td>\n      <td>0</td>\n      <td>0</td>\n      <td>1</td>\n      <td>0</td>\n      <td>0</td>\n      <td>...</td>\n      <td>0</td>\n      <td>0</td>\n      <td>0</td>\n      <td>0</td>\n      <td>0</td>\n      <td>0</td>\n      <td>0</td>\n      <td>0</td>\n      <td>0</td>\n      <td>0</td>\n    </tr>\n  </tbody>\n</table>\n<p>2151 rows × 250 columns</p>\n</div>"
     },
     "metadata": {},
     "execution_count": 92
    }
   ],
   "source": [
    "X_train['steamspy_tags'].str.split(';', expand=True).stack().str.get_dummies().add_prefix('tag_').sum(level=0)"
   ]
  },
  {
   "cell_type": "code",
   "execution_count": 93,
   "metadata": {},
   "outputs": [],
   "source": [
    "import eli5\n",
    "from eli5.sklearn import PermutationImportance"
   ]
  },
  {
   "cell_type": "code",
   "execution_count": 94,
   "metadata": {},
   "outputs": [],
   "source": [
    "pi = PermutationImportance(XGBClassifier)"
   ]
  },
  {
   "cell_type": "code",
   "execution_count": 95,
   "metadata": {},
   "outputs": [
    {
     "output_type": "error",
     "ename": "TypeError",
     "evalue": "'Pipeline' object is not callable",
     "traceback": [
      "\u001b[0;31m---------------------------------------------------------------------------\u001b[0m",
      "\u001b[0;31mTypeError\u001b[0m                                 Traceback (most recent call last)",
      "\u001b[0;32m<ipython-input-95-2a9528663b72>\u001b[0m in \u001b[0;36m<module>\u001b[0;34m\u001b[0m\n\u001b[0;32m----> 1\u001b[0;31m \u001b[0mpi\u001b[0m\u001b[0;34m.\u001b[0m\u001b[0mfit\u001b[0m\u001b[0;34m(\u001b[0m\u001b[0mtransformer\u001b[0m\u001b[0;34m(\u001b[0m\u001b[0;34m*\u001b[0m\u001b[0mtrain\u001b[0m\u001b[0;34m)\u001b[0m\u001b[0;34m,\u001b[0m \u001b[0my_train\u001b[0m\u001b[0;34m)\u001b[0m\u001b[0;34m\u001b[0m\u001b[0;34m\u001b[0m\u001b[0m\n\u001b[0m",
      "\u001b[0;31mTypeError\u001b[0m: 'Pipeline' object is not callable"
     ]
    }
   ],
   "source": [
    "pi.fit(transformer(*train), y_train)"
   ]
  },
  {
   "cell_type": "code",
   "execution_count": null,
   "metadata": {},
   "outputs": [],
   "source": [
    "X_transformed = transformer.fit_transform(*train)\n",
    "X_transformed"
   ]
  },
  {
   "cell_type": "code",
   "execution_count": null,
   "metadata": {},
   "outputs": [],
   "source": [
    "xg = XGBClassifier().fit(transformer.fit_transform(*train), y_train)"
   ]
  },
  {
   "cell_type": "code",
   "execution_count": 98,
   "metadata": {},
   "outputs": [],
   "source": [
    "perm = PermutationImportance(xg).fit(transformer.fit_transform(*train), y_train)"
   ]
  },
  {
   "cell_type": "code",
   "execution_count": 99,
   "metadata": {},
   "outputs": [],
   "source": [
    "columns = Wrangler().fit_transform(*train).columns.to_list()"
   ]
  },
  {
   "cell_type": "code",
   "execution_count": 100,
   "metadata": {},
   "outputs": [
    {
     "output_type": "execute_result",
     "data": {
      "text/plain": "<IPython.core.display.HTML object>",
      "text/html": "\n    <style>\n    table.eli5-weights tr:hover {\n        filter: brightness(85%);\n    }\n</style>\n\n\n\n    \n\n    \n\n    \n\n    \n\n    \n\n    \n\n\n    \n\n    \n\n    \n\n    \n\n    \n\n    \n\n\n    \n\n    \n\n    \n\n    \n\n    \n        <table class=\"eli5-weights eli5-feature-importances\" style=\"border-collapse: collapse; border: none; margin-top: 0em; table-layout: auto;\">\n    <thead>\n    <tr style=\"border: none;\">\n        <th style=\"padding: 0 1em 0 0.5em; text-align: right; border: none;\">Weight</th>\n        <th style=\"padding: 0 0.5em 0 0.5em; text-align: left; border: none;\">Feature</th>\n    </tr>\n    </thead>\n    <tbody>\n    \n        <tr style=\"background-color: hsl(120, 100.00%, 80.00%); border: none;\">\n            <td style=\"padding: 0 1em 0 0.5em; text-align: right; border: none;\">\n                0.0538\n                \n                    &plusmn; 0.0066\n                \n            </td>\n            <td style=\"padding: 0 0.5em 0 0.5em; text-align: left; border: none;\">\n                platforms\n            </td>\n        </tr>\n    \n        <tr style=\"background-color: hsl(120, 100.00%, 80.85%); border: none;\">\n            <td style=\"padding: 0 1em 0 0.5em; text-align: right; border: none;\">\n                0.0506\n                \n                    &plusmn; 0.0071\n                \n            </td>\n            <td style=\"padding: 0 0.5em 0 0.5em; text-align: left; border: none;\">\n                median_playtime\n            </td>\n        </tr>\n    \n        <tr style=\"background-color: hsl(120, 100.00%, 80.98%); border: none;\">\n            <td style=\"padding: 0 1em 0 0.5em; text-align: right; border: none;\">\n                0.0501\n                \n                    &plusmn; 0.0070\n                \n            </td>\n            <td style=\"padding: 0 0.5em 0 0.5em; text-align: left; border: none;\">\n                owners\n            </td>\n        </tr>\n    \n        <tr style=\"background-color: hsl(120, 100.00%, 81.13%); border: none;\">\n            <td style=\"padding: 0 1em 0 0.5em; text-align: right; border: none;\">\n                0.0496\n                \n                    &plusmn; 0.0056\n                \n            </td>\n            <td style=\"padding: 0 0.5em 0 0.5em; text-align: left; border: none;\">\n                year\n            </td>\n        </tr>\n    \n        <tr style=\"background-color: hsl(120, 100.00%, 84.05%); border: none;\">\n            <td style=\"padding: 0 1em 0 0.5em; text-align: right; border: none;\">\n                0.0390\n                \n                    &plusmn; 0.0050\n                \n            </td>\n            <td style=\"padding: 0 0.5em 0 0.5em; text-align: left; border: none;\">\n                developer\n            </td>\n        </tr>\n    \n        <tr style=\"background-color: hsl(120, 100.00%, 85.08%); border: none;\">\n            <td style=\"padding: 0 1em 0 0.5em; text-align: right; border: none;\">\n                0.0354\n                \n                    &plusmn; 0.0058\n                \n            </td>\n            <td style=\"padding: 0 0.5em 0 0.5em; text-align: left; border: none;\">\n                english\n            </td>\n        </tr>\n    \n        <tr style=\"background-color: hsl(120, 100.00%, 87.32%); border: none;\">\n            <td style=\"padding: 0 1em 0 0.5em; text-align: right; border: none;\">\n                0.0281\n                \n                    &plusmn; 0.0036\n                \n            </td>\n            <td style=\"padding: 0 0.5em 0 0.5em; text-align: left; border: none;\">\n                required_age\n            </td>\n        </tr>\n    \n        <tr style=\"background-color: hsl(120, 100.00%, 87.44%); border: none;\">\n            <td style=\"padding: 0 1em 0 0.5em; text-align: right; border: none;\">\n                0.0277\n                \n                    &plusmn; 0.0067\n                \n            </td>\n            <td style=\"padding: 0 0.5em 0 0.5em; text-align: left; border: none;\">\n                price\n            </td>\n        </tr>\n    \n        <tr style=\"background-color: hsl(120, 100.00%, 88.58%); border: none;\">\n            <td style=\"padding: 0 1em 0 0.5em; text-align: right; border: none;\">\n                0.0242\n                \n                    &plusmn; 0.0033\n                \n            </td>\n            <td style=\"padding: 0 0.5em 0 0.5em; text-align: left; border: none;\">\n                day\n            </td>\n        </tr>\n    \n        <tr style=\"background-color: hsl(120, 100.00%, 90.23%); border: none;\">\n            <td style=\"padding: 0 1em 0 0.5em; text-align: right; border: none;\">\n                0.0193\n                \n                    &plusmn; 0.0041\n                \n            </td>\n            <td style=\"padding: 0 0.5em 0 0.5em; text-align: left; border: none;\">\n                genreMassively Multiplayer\n            </td>\n        </tr>\n    \n        <tr style=\"background-color: hsl(120, 100.00%, 91.80%); border: none;\">\n            <td style=\"padding: 0 1em 0 0.5em; text-align: right; border: none;\">\n                0.0151\n                \n                    &plusmn; 0.0034\n                \n            </td>\n            <td style=\"padding: 0 0.5em 0 0.5em; text-align: left; border: none;\">\n                month\n            </td>\n        </tr>\n    \n        <tr style=\"background-color: hsl(120, 100.00%, 92.19%); border: none;\">\n            <td style=\"padding: 0 1em 0 0.5em; text-align: right; border: none;\">\n                0.0140\n                \n                    &plusmn; 0.0054\n                \n            </td>\n            <td style=\"padding: 0 0.5em 0 0.5em; text-align: left; border: none;\">\n                average_playtime\n            </td>\n        </tr>\n    \n        <tr style=\"background-color: hsl(120, 100.00%, 92.71%); border: none;\">\n            <td style=\"padding: 0 1em 0 0.5em; text-align: right; border: none;\">\n                0.0127\n                \n                    &plusmn; 0.0029\n                \n            </td>\n            <td style=\"padding: 0 0.5em 0 0.5em; text-align: left; border: none;\">\n                publisher\n            </td>\n        </tr>\n    \n        <tr style=\"background-color: hsl(120, 100.00%, 92.78%); border: none;\">\n            <td style=\"padding: 0 1em 0 0.5em; text-align: right; border: none;\">\n                0.0126\n                \n                    &plusmn; 0.0029\n                \n            </td>\n            <td style=\"padding: 0 0.5em 0 0.5em; text-align: left; border: none;\">\n                tagClassic\n            </td>\n        </tr>\n    \n        <tr style=\"background-color: hsl(120, 100.00%, 93.20%); border: none;\">\n            <td style=\"padding: 0 1em 0 0.5em; text-align: right; border: none;\">\n                0.0115\n                \n                    &plusmn; 0.0039\n                \n            </td>\n            <td style=\"padding: 0 0.5em 0 0.5em; text-align: left; border: none;\">\n                tagStrategy\n            </td>\n        </tr>\n    \n        <tr style=\"background-color: hsl(120, 100.00%, 93.47%); border: none;\">\n            <td style=\"padding: 0 1em 0 0.5em; text-align: right; border: none;\">\n                0.0109\n                \n                    &plusmn; 0.0029\n                \n            </td>\n            <td style=\"padding: 0 0.5em 0 0.5em; text-align: left; border: none;\">\n                tagMultiplayer\n            </td>\n        </tr>\n    \n        <tr style=\"background-color: hsl(120, 100.00%, 93.79%); border: none;\">\n            <td style=\"padding: 0 1em 0 0.5em; text-align: right; border: none;\">\n                0.0101\n                \n                    &plusmn; 0.0020\n                \n            </td>\n            <td style=\"padding: 0 0.5em 0 0.5em; text-align: left; border: none;\">\n                tagPuzzle\n            </td>\n        </tr>\n    \n        <tr style=\"background-color: hsl(120, 100.00%, 94.48%); border: none;\">\n            <td style=\"padding: 0 1em 0 0.5em; text-align: right; border: none;\">\n                0.0086\n                \n                    &plusmn; 0.0005\n                \n            </td>\n            <td style=\"padding: 0 0.5em 0 0.5em; text-align: left; border: none;\">\n                tagAction\n            </td>\n        </tr>\n    \n        <tr style=\"background-color: hsl(120, 100.00%, 94.78%); border: none;\">\n            <td style=\"padding: 0 1em 0 0.5em; text-align: right; border: none;\">\n                0.0079\n                \n                    &plusmn; 0.0029\n                \n            </td>\n            <td style=\"padding: 0 0.5em 0 0.5em; text-align: left; border: none;\">\n                tagGreat Soundtrack\n            </td>\n        </tr>\n    \n        <tr style=\"background-color: hsl(120, 100.00%, 95.00%); border: none;\">\n            <td style=\"padding: 0 1em 0 0.5em; text-align: right; border: none;\">\n                0.0074\n                \n                    &plusmn; 0.0013\n                \n            </td>\n            <td style=\"padding: 0 0.5em 0 0.5em; text-align: left; border: none;\">\n                tagAdventure\n            </td>\n        </tr>\n    \n    \n        \n            <tr style=\"background-color: hsl(120, 100.00%, 95.00%); border: none;\">\n                <td colspan=\"2\" style=\"padding: 0 0.5em 0 0.5em; text-align: center; border: none; white-space: nowrap;\">\n                    <i>&hellip; 268 more &hellip;</i>\n                </td>\n            </tr>\n        \n    \n    </tbody>\n</table>\n    \n\n    \n\n\n    \n\n    \n\n    \n\n    \n\n    \n\n    \n\n\n\n"
     },
     "metadata": {},
     "execution_count": 100
    }
   ],
   "source": [
    "eli5.show_weights(perm, feature_names= columns )"
   ]
  },
  {
   "cell_type": "code",
   "execution_count": null,
   "metadata": {},
   "outputs": [],
   "source": []
  },
  {
   "cell_type": "code",
   "execution_count": null,
   "metadata": {},
   "outputs": [],
   "source": []
  },
  {
   "cell_type": "code",
   "execution_count": null,
   "metadata": {},
   "outputs": [],
   "source": []
  },
  {
   "cell_type": "code",
   "execution_count": null,
   "metadata": {},
   "outputs": [],
   "source": [
    " "
   ]
  }
 ],
 "metadata": {
  "kernelspec": {
   "display_name": "Python 3",
   "language": "python",
   "name": "python3"
  },
  "language_info": {
   "codemirror_mode": {
    "name": "ipython",
    "version": 3
   },
   "file_extension": ".py",
   "mimetype": "text/x-python",
   "name": "python",
   "nbconvert_exporter": "python",
   "pygments_lexer": "ipython3",
   "version": "3.7.6-final"
  }
 },
 "nbformat": 4,
 "nbformat_minor": 1
}